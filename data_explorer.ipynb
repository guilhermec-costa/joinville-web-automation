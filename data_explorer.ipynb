{
 "cells": [
  {
   "cell_type": "code",
   "execution_count": null,
   "metadata": {},
   "outputs": [],
   "source": [
    "import mysql.connector\n",
    "import mysql.connector.errorcode\n",
    "import pandas as pd\n",
    "import numpy as np\n",
    "\n",
    "cnx = \"\";\n",
    "unique_meters: pd.DataFrame = None;\n",
    "def connect_to_database():\n",
    "    global cnx\n",
    "    cnx = mysql.connector.connect(\n",
    "            user=\"guilhermec\",\n",
    "            password=\"6B&54V$Z7rkD\",\n",
    "            host=\"iot-laager.c3wepnzq2di2.us-east-1.rds.amazonaws.com\",\n",
    "            database=\"DLAAGERIOT\"\n",
    "    )\n"
   ]
  },
  {
   "cell_type": "code",
   "execution_count": null,
   "metadata": {},
   "outputs": [],
   "source": [
    "import pandas as pd\n",
    "import datetime\n",
    "\n",
    "connect_to_database()\n",
    "if cnx and cnx.is_connected():\n",
    "    global unique_meters\n",
    "    with cnx.cursor() as cursor:\n",
    "        cursor.execute(\n",
    "            \"\"\"\n",
    "                select bu.name, r.rgi, m.serial_number `meter_code`, m.seal_number, so.created_at,\n",
    "                m.positive_count, r.status,\n",
    "                concat('https://iot.laager.com.br/so/images/full/', soi.hash_value) from residences r \n",
    "                inner join meters m on (m.residence_id = r.id)\n",
    "                inner join commercial_services cs on(r.commercial_service_id = cs.id)\n",
    "                inner join business_units bu on (cs.business_unit_id = bu.id)\n",
    "                inner join service_orders so on (so.residence_id = r.id)\n",
    "                inner join service_order_images soi on (soi.service_order_id = so.id)\n",
    "                where bu.id = 762 and r.status = 'ACTIVATED' and soi.stage = 'POS' and m.seal_number <> 0\n",
    "            \"\"\")\n",
    "        \n",
    "        data = cursor.fetchall()\n",
    "        meters = pd.DataFrame(data, columns=[\"business_unit\", \"rgi\", \"meter_serial_number\", \"device_serial_number\",\n",
    "                                             \"created_at\", \"current_reading\", \"status\", \"photo_link\"])\n",
    "        meters[\"created_at\"] = meters[\"created_at\"].apply(lambda date: datetime.datetime.strftime(date, \"%d/%m/%Y %H:%M:%S\"));\n",
    "        display(meters)\n",
    "        meters.to_excel(\"data_with_all_devices.xlsx\", index=False)\n",
    "\n",
    "\n",
    "    cnx.close();\n",
    "else:\n",
    "    print(\"Não conectado\")"
   ]
  },
  {
   "cell_type": "code",
   "execution_count": null,
   "metadata": {},
   "outputs": [],
   "source": [
    "import pandas as pd\n",
    "import datetime\n",
    "data = pd.read_excel(\"./data.xlsx\")\n",
    "data[\"created_at\"] = pd.to_datetime(data[\"created_at\"]);\n",
    "data[\"created_at\"] = data[\"created_at\"].apply(lambda date: datetime.datetime.strftime(date, \"%d/%m/%Y %H:%M:%S\"));\n",
    "display(data)"
   ]
  },
  {
   "cell_type": "code",
   "execution_count": null,
   "metadata": {},
   "outputs": [],
   "source": [
    "import requests\n",
    "photo_links = data[\"photo_link\"].to_numpy();\n",
    "first_url = photo_links[0]\n"
   ]
  },
  {
   "cell_type": "code",
   "execution_count": null,
   "metadata": {},
   "outputs": [],
   "source": [
    "import os\n",
    "import requests\n",
    "\n",
    "for unique_rgi in data[\"rgi\"].unique():\n",
    "    if unique_rgi in (\"00227855-3\", \"01314032-9\"):\n",
    "        subdata = data[data[\"rgi\"]==unique_rgi]\n",
    "        dir_to_create = fr\"./{unique_rgi}\"\n",
    "        os.mkdir(dir_to_create)\n",
    "        for i, photo_link in enumerate(subdata[\"photo_link\"].unique()):\n",
    "            req = requests.request(\"GET\", url=photo_link);\n",
    "            with open(fr\"{dir_to_create}/image{i}.jpg\", \"wb\") as handler:\n",
    "                handler.write(req.content);"
   ]
  }
 ],
 "metadata": {
  "kernelspec": {
   "display_name": ".venv",
   "language": "python",
   "name": "python3"
  },
  "language_info": {
   "codemirror_mode": {
    "name": "ipython",
    "version": 3
   },
   "file_extension": ".py",
   "mimetype": "text/x-python",
   "name": "python",
   "nbconvert_exporter": "python",
   "pygments_lexer": "ipython3",
   "version": "3.11.5"
  },
  "orig_nbformat": 4
 },
 "nbformat": 4,
 "nbformat_minor": 2
}
